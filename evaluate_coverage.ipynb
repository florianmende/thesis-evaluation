{
 "cells": [
  {
   "cell_type": "markdown",
   "source": [
    "# Code Coverage Evaluation for Unit Tests"
   ],
   "metadata": {
    "collapsed": false
   }
  },
  {
   "cell_type": "code",
   "execution_count": 3,
   "outputs": [],
   "source": [
    "import pandas as pd\n",
    "import matplotlib.pyplot as plt\n",
    "import numpy as np\n",
    "import seaborn as sns\n",
    "import os"
   ],
   "metadata": {
    "collapsed": false,
    "ExecuteTime": {
     "end_time": "2023-10-30T16:17:18.914830Z",
     "start_time": "2023-10-30T16:17:18.910251Z"
    }
   }
  },
  {
   "cell_type": "markdown",
   "source": [
    "## Read in coverage reports into seperate dataframes"
   ],
   "metadata": {
    "collapsed": false
   }
  },
  {
   "cell_type": "code",
   "execution_count": 4,
   "metadata": {
    "collapsed": true,
    "ExecuteTime": {
     "end_time": "2023-10-30T16:17:19.616137Z",
     "start_time": "2023-10-30T16:17:19.589204Z"
    }
   },
   "outputs": [],
   "source": [
    "# read in all csv in /coverage_reports in separate dataframes\n",
    "df_list = []\n",
    "for file in os.listdir('coverage_reports'):\n",
    "    if file.endswith('.csv') and 'sample' not in file:\n",
    "        df = pd.read_csv('coverage_reports/' + file)\n",
    "        df[\"File\"] = file[:-4]\n",
    "        df_list.append(df)"
   ]
  },
  {
   "cell_type": "markdown",
   "source": [
    "## Create a dataframe with the aggregated coverage results"
   ],
   "metadata": {
    "collapsed": false
   }
  },
  {
   "cell_type": "code",
   "execution_count": 5,
   "outputs": [
    {
     "name": "stderr",
     "output_type": "stream",
     "text": [
      "/var/folders/0g/czf1jpd15jx1w6btr565xw180000gn/T/ipykernel_65572/1030606437.py:5: FutureWarning: The behavior of DataFrame concatenation with empty or all-NA entries is deprecated. In a future version, this will no longer exclude empty or all-NA columns when determining the result dtypes. To retain the old behavior, exclude the relevant entries before the concat operation.\n",
      "  df_agg = df_agg._append({'File': df['File'][0],\n"
     ]
    },
    {
     "data": {
      "text/plain": "                               File Instruction_Total  Instruction  \\\n0   coverage_report_20231027_222616              5037     0.219972   \n1   coverage_report_20231023_214133              5037     0.165376   \n2   coverage_report_20231025_121248              5037     0.330355   \n3   coverage_report_20231025_224954              5037     0.357157   \n4   coverage_report_20231028_032631              5037     0.316061   \n5   coverage_report_20231025_100630              5037     0.229700   \n6   coverage_report_20231027_212614              5037     0.234663   \n7   coverage_report_20231024_165833              5037     0.245980   \n8   coverage_report_20231024_082502              5037     0.151082   \n9   coverage_report_20231028_012625              5037     0.202899   \n10  coverage_report_20231024_151954              5037     0.222355   \n11  coverage_report_20231023_204140              5037     0.239627   \n12  coverage_report_20231024_080105              5037     0.299186   \n13  coverage_report_20231023_195751              5037     0.177090   \n14  coverage_report_20231024_004630              5037     0.188803   \n15  coverage_report_20231024_091429              5037     0.197538   \n16  coverage_report_20231028_042634              5037     0.300179   \n17  coverage_report_20231025_183916              5037     0.218384   \n18  coverage_report_20231025_193245              5037     0.130038   \n19  coverage_report_20231025_105031              5037     0.269803   \n20  coverage_report_20231025_215329              5037     0.182648   \n21  coverage_report_20231025_125643              5037     0.320627   \n22  coverage_report_20231026_155023              5037     0.292635   \n23  coverage_report_20231028_052637              5037     0.251737   \n24  coverage_report_20231030_094427              5037     0.166567   \n25  coverage_report_20231027_232619              5037     0.212428   \n26  coverage_report_20231024_145023              5037     0.377209   \n27  coverage_report_20231026_105918              5037     0.164979   \n28  coverage_report_20231028_022628              5037     0.200119   \n29  coverage_report_20231024_060930              5037     0.248561   \n\n   Branch_Total    Branch Line_Total      Line Complexity_Total  Complexity  \\\n0           724  0.142265       1207  0.262635              654    0.223242   \n1           724  0.131215       1207  0.196355              654    0.177370   \n2           724  0.236188       1207  0.342999              654    0.250765   \n3           724  0.252762       1207  0.394366              654    0.308869   \n4           724  0.212707       1207  0.328915              654    0.244648   \n5           724  0.167127       1207  0.239437              654    0.201835   \n6           724  0.154696       1207  0.245236              654    0.198777   \n7           724  0.153315       1207  0.283347              654    0.220183   \n8           724  0.109116       1207  0.171500              654    0.168196   \n9           724  0.128453       1207  0.214582              654    0.177370   \n10          724  0.160221       1207  0.261806              654    0.233945   \n11          724  0.201657       1207  0.255178              654    0.233945   \n12          724  0.234807       1207  0.307374              654    0.259939   \n13          724  0.110497       1207  0.212096              654    0.174312   \n14          724  0.107735       1207  0.202154              654    0.165138   \n15          724  0.132597       1207  0.228666              654    0.185015   \n16          724  0.197514       1207  0.324772              654    0.232416   \n17          724  0.135359       1207  0.239437              654    0.178899   \n18          724  0.078729       1207  0.165700              654    0.126911   \n19          724  0.172652       1207  0.302403              654    0.221713   \n20          724  0.120166       1207  0.194698              654    0.169725   \n21          724  0.237569       1207  0.335543              654    0.261468   \n22          724  0.203039       1207  0.331400              654    0.250765   \n23          724  0.203039       1207  0.264292              654    0.224771   \n24          724  0.091160       1207  0.198012              654    0.157492   \n25          724  0.150552       1207  0.230323              654    0.207951   \n26          724  0.270718       1207  0.400166              654    0.287462   \n27          724  0.092541       1207  0.195526              654    0.160550   \n28          724  0.129834       1207  0.226181              654    0.189602   \n29          724  0.161602       1207  0.272577              654    0.201835   \n\n   Method_Total    Method  \n0           288  0.364583  \n1           288  0.250000  \n2           288  0.392361  \n3           288  0.517361  \n4           288  0.427083  \n5           288  0.309028  \n6           288  0.322917  \n7           288  0.388889  \n8           288  0.267361  \n9           288  0.291667  \n10          288  0.368056  \n11          288  0.364583  \n12          288  0.416667  \n13          288  0.298611  \n14          288  0.288194  \n15          288  0.315972  \n16          288  0.371528  \n17          288  0.309028  \n18          288  0.232639  \n19          288  0.381944  \n20          288  0.281250  \n21          288  0.423611  \n22          288  0.395833  \n23          288  0.364583  \n24          288  0.281250  \n25          288  0.319444  \n26          288  0.461806  \n27          288  0.263889  \n28          288  0.309028  \n29          288  0.336806  ",
      "text/html": "<div>\n<style scoped>\n    .dataframe tbody tr th:only-of-type {\n        vertical-align: middle;\n    }\n\n    .dataframe tbody tr th {\n        vertical-align: top;\n    }\n\n    .dataframe thead th {\n        text-align: right;\n    }\n</style>\n<table border=\"1\" class=\"dataframe\">\n  <thead>\n    <tr style=\"text-align: right;\">\n      <th></th>\n      <th>File</th>\n      <th>Instruction_Total</th>\n      <th>Instruction</th>\n      <th>Branch_Total</th>\n      <th>Branch</th>\n      <th>Line_Total</th>\n      <th>Line</th>\n      <th>Complexity_Total</th>\n      <th>Complexity</th>\n      <th>Method_Total</th>\n      <th>Method</th>\n    </tr>\n  </thead>\n  <tbody>\n    <tr>\n      <th>0</th>\n      <td>coverage_report_20231027_222616</td>\n      <td>5037</td>\n      <td>0.219972</td>\n      <td>724</td>\n      <td>0.142265</td>\n      <td>1207</td>\n      <td>0.262635</td>\n      <td>654</td>\n      <td>0.223242</td>\n      <td>288</td>\n      <td>0.364583</td>\n    </tr>\n    <tr>\n      <th>1</th>\n      <td>coverage_report_20231023_214133</td>\n      <td>5037</td>\n      <td>0.165376</td>\n      <td>724</td>\n      <td>0.131215</td>\n      <td>1207</td>\n      <td>0.196355</td>\n      <td>654</td>\n      <td>0.177370</td>\n      <td>288</td>\n      <td>0.250000</td>\n    </tr>\n    <tr>\n      <th>2</th>\n      <td>coverage_report_20231025_121248</td>\n      <td>5037</td>\n      <td>0.330355</td>\n      <td>724</td>\n      <td>0.236188</td>\n      <td>1207</td>\n      <td>0.342999</td>\n      <td>654</td>\n      <td>0.250765</td>\n      <td>288</td>\n      <td>0.392361</td>\n    </tr>\n    <tr>\n      <th>3</th>\n      <td>coverage_report_20231025_224954</td>\n      <td>5037</td>\n      <td>0.357157</td>\n      <td>724</td>\n      <td>0.252762</td>\n      <td>1207</td>\n      <td>0.394366</td>\n      <td>654</td>\n      <td>0.308869</td>\n      <td>288</td>\n      <td>0.517361</td>\n    </tr>\n    <tr>\n      <th>4</th>\n      <td>coverage_report_20231028_032631</td>\n      <td>5037</td>\n      <td>0.316061</td>\n      <td>724</td>\n      <td>0.212707</td>\n      <td>1207</td>\n      <td>0.328915</td>\n      <td>654</td>\n      <td>0.244648</td>\n      <td>288</td>\n      <td>0.427083</td>\n    </tr>\n    <tr>\n      <th>5</th>\n      <td>coverage_report_20231025_100630</td>\n      <td>5037</td>\n      <td>0.229700</td>\n      <td>724</td>\n      <td>0.167127</td>\n      <td>1207</td>\n      <td>0.239437</td>\n      <td>654</td>\n      <td>0.201835</td>\n      <td>288</td>\n      <td>0.309028</td>\n    </tr>\n    <tr>\n      <th>6</th>\n      <td>coverage_report_20231027_212614</td>\n      <td>5037</td>\n      <td>0.234663</td>\n      <td>724</td>\n      <td>0.154696</td>\n      <td>1207</td>\n      <td>0.245236</td>\n      <td>654</td>\n      <td>0.198777</td>\n      <td>288</td>\n      <td>0.322917</td>\n    </tr>\n    <tr>\n      <th>7</th>\n      <td>coverage_report_20231024_165833</td>\n      <td>5037</td>\n      <td>0.245980</td>\n      <td>724</td>\n      <td>0.153315</td>\n      <td>1207</td>\n      <td>0.283347</td>\n      <td>654</td>\n      <td>0.220183</td>\n      <td>288</td>\n      <td>0.388889</td>\n    </tr>\n    <tr>\n      <th>8</th>\n      <td>coverage_report_20231024_082502</td>\n      <td>5037</td>\n      <td>0.151082</td>\n      <td>724</td>\n      <td>0.109116</td>\n      <td>1207</td>\n      <td>0.171500</td>\n      <td>654</td>\n      <td>0.168196</td>\n      <td>288</td>\n      <td>0.267361</td>\n    </tr>\n    <tr>\n      <th>9</th>\n      <td>coverage_report_20231028_012625</td>\n      <td>5037</td>\n      <td>0.202899</td>\n      <td>724</td>\n      <td>0.128453</td>\n      <td>1207</td>\n      <td>0.214582</td>\n      <td>654</td>\n      <td>0.177370</td>\n      <td>288</td>\n      <td>0.291667</td>\n    </tr>\n    <tr>\n      <th>10</th>\n      <td>coverage_report_20231024_151954</td>\n      <td>5037</td>\n      <td>0.222355</td>\n      <td>724</td>\n      <td>0.160221</td>\n      <td>1207</td>\n      <td>0.261806</td>\n      <td>654</td>\n      <td>0.233945</td>\n      <td>288</td>\n      <td>0.368056</td>\n    </tr>\n    <tr>\n      <th>11</th>\n      <td>coverage_report_20231023_204140</td>\n      <td>5037</td>\n      <td>0.239627</td>\n      <td>724</td>\n      <td>0.201657</td>\n      <td>1207</td>\n      <td>0.255178</td>\n      <td>654</td>\n      <td>0.233945</td>\n      <td>288</td>\n      <td>0.364583</td>\n    </tr>\n    <tr>\n      <th>12</th>\n      <td>coverage_report_20231024_080105</td>\n      <td>5037</td>\n      <td>0.299186</td>\n      <td>724</td>\n      <td>0.234807</td>\n      <td>1207</td>\n      <td>0.307374</td>\n      <td>654</td>\n      <td>0.259939</td>\n      <td>288</td>\n      <td>0.416667</td>\n    </tr>\n    <tr>\n      <th>13</th>\n      <td>coverage_report_20231023_195751</td>\n      <td>5037</td>\n      <td>0.177090</td>\n      <td>724</td>\n      <td>0.110497</td>\n      <td>1207</td>\n      <td>0.212096</td>\n      <td>654</td>\n      <td>0.174312</td>\n      <td>288</td>\n      <td>0.298611</td>\n    </tr>\n    <tr>\n      <th>14</th>\n      <td>coverage_report_20231024_004630</td>\n      <td>5037</td>\n      <td>0.188803</td>\n      <td>724</td>\n      <td>0.107735</td>\n      <td>1207</td>\n      <td>0.202154</td>\n      <td>654</td>\n      <td>0.165138</td>\n      <td>288</td>\n      <td>0.288194</td>\n    </tr>\n    <tr>\n      <th>15</th>\n      <td>coverage_report_20231024_091429</td>\n      <td>5037</td>\n      <td>0.197538</td>\n      <td>724</td>\n      <td>0.132597</td>\n      <td>1207</td>\n      <td>0.228666</td>\n      <td>654</td>\n      <td>0.185015</td>\n      <td>288</td>\n      <td>0.315972</td>\n    </tr>\n    <tr>\n      <th>16</th>\n      <td>coverage_report_20231028_042634</td>\n      <td>5037</td>\n      <td>0.300179</td>\n      <td>724</td>\n      <td>0.197514</td>\n      <td>1207</td>\n      <td>0.324772</td>\n      <td>654</td>\n      <td>0.232416</td>\n      <td>288</td>\n      <td>0.371528</td>\n    </tr>\n    <tr>\n      <th>17</th>\n      <td>coverage_report_20231025_183916</td>\n      <td>5037</td>\n      <td>0.218384</td>\n      <td>724</td>\n      <td>0.135359</td>\n      <td>1207</td>\n      <td>0.239437</td>\n      <td>654</td>\n      <td>0.178899</td>\n      <td>288</td>\n      <td>0.309028</td>\n    </tr>\n    <tr>\n      <th>18</th>\n      <td>coverage_report_20231025_193245</td>\n      <td>5037</td>\n      <td>0.130038</td>\n      <td>724</td>\n      <td>0.078729</td>\n      <td>1207</td>\n      <td>0.165700</td>\n      <td>654</td>\n      <td>0.126911</td>\n      <td>288</td>\n      <td>0.232639</td>\n    </tr>\n    <tr>\n      <th>19</th>\n      <td>coverage_report_20231025_105031</td>\n      <td>5037</td>\n      <td>0.269803</td>\n      <td>724</td>\n      <td>0.172652</td>\n      <td>1207</td>\n      <td>0.302403</td>\n      <td>654</td>\n      <td>0.221713</td>\n      <td>288</td>\n      <td>0.381944</td>\n    </tr>\n    <tr>\n      <th>20</th>\n      <td>coverage_report_20231025_215329</td>\n      <td>5037</td>\n      <td>0.182648</td>\n      <td>724</td>\n      <td>0.120166</td>\n      <td>1207</td>\n      <td>0.194698</td>\n      <td>654</td>\n      <td>0.169725</td>\n      <td>288</td>\n      <td>0.281250</td>\n    </tr>\n    <tr>\n      <th>21</th>\n      <td>coverage_report_20231025_125643</td>\n      <td>5037</td>\n      <td>0.320627</td>\n      <td>724</td>\n      <td>0.237569</td>\n      <td>1207</td>\n      <td>0.335543</td>\n      <td>654</td>\n      <td>0.261468</td>\n      <td>288</td>\n      <td>0.423611</td>\n    </tr>\n    <tr>\n      <th>22</th>\n      <td>coverage_report_20231026_155023</td>\n      <td>5037</td>\n      <td>0.292635</td>\n      <td>724</td>\n      <td>0.203039</td>\n      <td>1207</td>\n      <td>0.331400</td>\n      <td>654</td>\n      <td>0.250765</td>\n      <td>288</td>\n      <td>0.395833</td>\n    </tr>\n    <tr>\n      <th>23</th>\n      <td>coverage_report_20231028_052637</td>\n      <td>5037</td>\n      <td>0.251737</td>\n      <td>724</td>\n      <td>0.203039</td>\n      <td>1207</td>\n      <td>0.264292</td>\n      <td>654</td>\n      <td>0.224771</td>\n      <td>288</td>\n      <td>0.364583</td>\n    </tr>\n    <tr>\n      <th>24</th>\n      <td>coverage_report_20231030_094427</td>\n      <td>5037</td>\n      <td>0.166567</td>\n      <td>724</td>\n      <td>0.091160</td>\n      <td>1207</td>\n      <td>0.198012</td>\n      <td>654</td>\n      <td>0.157492</td>\n      <td>288</td>\n      <td>0.281250</td>\n    </tr>\n    <tr>\n      <th>25</th>\n      <td>coverage_report_20231027_232619</td>\n      <td>5037</td>\n      <td>0.212428</td>\n      <td>724</td>\n      <td>0.150552</td>\n      <td>1207</td>\n      <td>0.230323</td>\n      <td>654</td>\n      <td>0.207951</td>\n      <td>288</td>\n      <td>0.319444</td>\n    </tr>\n    <tr>\n      <th>26</th>\n      <td>coverage_report_20231024_145023</td>\n      <td>5037</td>\n      <td>0.377209</td>\n      <td>724</td>\n      <td>0.270718</td>\n      <td>1207</td>\n      <td>0.400166</td>\n      <td>654</td>\n      <td>0.287462</td>\n      <td>288</td>\n      <td>0.461806</td>\n    </tr>\n    <tr>\n      <th>27</th>\n      <td>coverage_report_20231026_105918</td>\n      <td>5037</td>\n      <td>0.164979</td>\n      <td>724</td>\n      <td>0.092541</td>\n      <td>1207</td>\n      <td>0.195526</td>\n      <td>654</td>\n      <td>0.160550</td>\n      <td>288</td>\n      <td>0.263889</td>\n    </tr>\n    <tr>\n      <th>28</th>\n      <td>coverage_report_20231028_022628</td>\n      <td>5037</td>\n      <td>0.200119</td>\n      <td>724</td>\n      <td>0.129834</td>\n      <td>1207</td>\n      <td>0.226181</td>\n      <td>654</td>\n      <td>0.189602</td>\n      <td>288</td>\n      <td>0.309028</td>\n    </tr>\n    <tr>\n      <th>29</th>\n      <td>coverage_report_20231024_060930</td>\n      <td>5037</td>\n      <td>0.248561</td>\n      <td>724</td>\n      <td>0.161602</td>\n      <td>1207</td>\n      <td>0.272577</td>\n      <td>654</td>\n      <td>0.201835</td>\n      <td>288</td>\n      <td>0.336806</td>\n    </tr>\n  </tbody>\n</table>\n</div>"
     },
     "execution_count": 5,
     "metadata": {},
     "output_type": "execute_result"
    }
   ],
   "source": [
    "columns = ['File', 'Instruction_Total', 'Instruction', 'Branch_Total', 'Branch', 'Line_Total', 'Line', 'Complexity_Total', 'Complexity', 'Method_Total', 'Method']\n",
    "df_agg = pd.DataFrame(columns=columns)\n",
    "\n",
    "for df in df_list:\n",
    "    df_agg = df_agg._append({'File': df['File'][0],\n",
    "                             'Instruction_Total': df['INSTRUCTION_MISSED'].sum() + df['INSTRUCTION_COVERED'].sum(),\n",
    "                            'Instruction': df['INSTRUCTION_COVERED'].sum() / (df['INSTRUCTION_MISSED'].sum() + df['INSTRUCTION_COVERED'].sum()),\n",
    "                            'Branch_Total': df['BRANCH_MISSED'].sum() + df['BRANCH_COVERED'].sum(),\n",
    "                            'Branch': df['BRANCH_COVERED'].sum() / (df['BRANCH_MISSED'].sum() + df['BRANCH_COVERED'].sum()),\n",
    "                            'Line_Total': df['LINE_MISSED'].sum() + df['LINE_COVERED'].sum(),\n",
    "                            'Line': df['LINE_COVERED'].sum() / (df['LINE_MISSED'].sum() + df['LINE_COVERED'].sum()),\n",
    "                            'Complexity_Total': df['COMPLEXITY_MISSED'].sum() + df['COMPLEXITY_COVERED'].sum(),\n",
    "                            'Complexity': df['COMPLEXITY_COVERED'].sum() / (df['COMPLEXITY_MISSED'].sum() + df['COMPLEXITY_COVERED'].sum()),\n",
    "                            'Method_Total': df['METHOD_MISSED'].sum() + df['METHOD_COVERED'].sum(),\n",
    "                            'Method': df['METHOD_COVERED'].sum() / (df['METHOD_MISSED'].sum() + df['METHOD_COVERED'].sum())},\n",
    "                           ignore_index=True)\n",
    "\n",
    "df_agg\n"
   ],
   "metadata": {
    "collapsed": false,
    "ExecuteTime": {
     "end_time": "2023-10-30T16:17:22.697676Z",
     "start_time": "2023-10-30T16:17:22.668502Z"
    }
   }
  },
  {
   "cell_type": "code",
   "execution_count": 6,
   "outputs": [
    {
     "data": {
      "text/plain": "<Figure size 640x480 with 1 Axes>",
      "image/png": "[encoded data removed]"
     },
     "metadata": {},
     "output_type": "display_data"
    }
   ],
   "source": [
    "# plot the results using a boxplot\n",
    "sns.set_theme(style=\"whitegrid\")\n",
    "sns.boxplot(data=df_agg[['Instruction', 'Branch', 'Line', 'Complexity', 'Method']], palette=\"Set2\")\n",
    "plt.title('Code Coverage for Unit Tests')\n",
    "plt.ylabel('Percentage Covered')\n",
    "plt.xlabel('Coverage Type')\n",
    "plt.show()"
   ],
   "metadata": {
    "collapsed": false,
    "ExecuteTime": {
     "end_time": "2023-10-30T16:17:25.330886Z",
     "start_time": "2023-10-30T16:17:25.205873Z"
    }
   }
  },
  {
   "cell_type": "code",
   "execution_count": 7,
   "outputs": [
    {
     "data": {
      "text/plain": "       Instruction     Branch       Line  Complexity     Method\ncount    30.000000  30.000000  30.000000   30.000000  30.000000\nmean      0.237125   0.162661   0.260922    0.209837   0.343866\nstd       0.063540   0.051772   0.062677    0.041890   0.066543\nmin       0.130038   0.078729   0.165700    0.126911   0.232639\n25%       0.190987   0.128798   0.212717    0.177370   0.293403\n50%       0.226027   0.154006   0.250207    0.204893   0.329861\n75%       0.286927   0.202693   0.306131    0.233945   0.387153\nmax       0.377209   0.270718   0.400166    0.308869   0.517361",
      "text/html": "<div>\n<style scoped>\n    .dataframe tbody tr th:only-of-type {\n        vertical-align: middle;\n    }\n\n    .dataframe tbody tr th {\n        vertical-align: top;\n    }\n\n    .dataframe thead th {\n        text-align: right;\n    }\n</style>\n<table border=\"1\" class=\"dataframe\">\n  <thead>\n    <tr style=\"text-align: right;\">\n      <th></th>\n      <th>Instruction</th>\n      <th>Branch</th>\n      <th>Line</th>\n      <th>Complexity</th>\n      <th>Method</th>\n    </tr>\n  </thead>\n  <tbody>\n    <tr>\n      <th>count</th>\n      <td>30.000000</td>\n      <td>30.000000</td>\n      <td>30.000000</td>\n      <td>30.000000</td>\n      <td>30.000000</td>\n    </tr>\n    <tr>\n      <th>mean</th>\n      <td>0.237125</td>\n      <td>0.162661</td>\n      <td>0.260922</td>\n      <td>0.209837</td>\n      <td>0.343866</td>\n    </tr>\n    <tr>\n      <th>std</th>\n      <td>0.063540</td>\n      <td>0.051772</td>\n      <td>0.062677</td>\n      <td>0.041890</td>\n      <td>0.066543</td>\n    </tr>\n    <tr>\n      <th>min</th>\n      <td>0.130038</td>\n      <td>0.078729</td>\n      <td>0.165700</td>\n      <td>0.126911</td>\n      <td>0.232639</td>\n    </tr>\n    <tr>\n      <th>25%</th>\n      <td>0.190987</td>\n      <td>0.128798</td>\n      <td>0.212717</td>\n      <td>0.177370</td>\n      <td>0.293403</td>\n    </tr>\n    <tr>\n      <th>50%</th>\n      <td>0.226027</td>\n      <td>0.154006</td>\n      <td>0.250207</td>\n      <td>0.204893</td>\n      <td>0.329861</td>\n    </tr>\n    <tr>\n      <th>75%</th>\n      <td>0.286927</td>\n      <td>0.202693</td>\n      <td>0.306131</td>\n      <td>0.233945</td>\n      <td>0.387153</td>\n    </tr>\n    <tr>\n      <th>max</th>\n      <td>0.377209</td>\n      <td>0.270718</td>\n      <td>0.400166</td>\n      <td>0.308869</td>\n      <td>0.517361</td>\n    </tr>\n  </tbody>\n</table>\n</div>"
     },
     "execution_count": 7,
     "metadata": {},
     "output_type": "execute_result"
    }
   ],
   "source": [
    "# Calculate the mean and standard deviation for each coverage type\n",
    "df_agg[['Instruction', 'Branch', 'Line', 'Complexity', 'Method']].describe()"
   ],
   "metadata": {
    "collapsed": false,
    "ExecuteTime": {
     "end_time": "2023-10-30T16:17:25.634313Z",
     "start_time": "2023-10-30T16:17:25.626954Z"
    }
   }
  },
  {
   "cell_type": "markdown",
   "source": [
    "## Evaluate coverage from multiple test suites combined"
   ],
   "metadata": {
    "collapsed": false
   }
  },
  {
   "cell_type": "code",
   "execution_count": 10,
   "outputs": [],
   "source": [
    "# read in csv\n",
    "df = pd.read_csv('coverage_reports/coverage_report_sample_30.csv')"
   ],
   "metadata": {
    "collapsed": false,
    "ExecuteTime": {
     "end_time": "2023-10-30T17:28:36.079453Z",
     "start_time": "2023-10-30T17:28:36.074703Z"
    }
   }
  },
  {
   "cell_type": "code",
   "execution_count": 12,
   "outputs": [
    {
     "name": "stderr",
     "output_type": "stream",
     "text": [
      "/var/folders/0g/czf1jpd15jx1w6btr565xw180000gn/T/ipykernel_65572/1371186788.py:5: FutureWarning: The behavior of DataFrame concatenation with empty or all-NA entries is deprecated. In a future version, this will no longer exclude empty or all-NA columns when determining the result dtypes. To retain the old behavior, exclude the relevant entries before the concat operation.\n",
      "  df_agg = df_agg._append({'Instruction_Total': df['INSTRUCTION_MISSED'].sum() + df['INSTRUCTION_COVERED'].sum(),\n"
     ]
    },
    {
     "data": {
      "text/plain": "   Instruction_Total  Instruction  Branch_Total    Branch  Line_Total  \\\n0             5037.0      0.67977         724.0  0.540055      1207.0   \n\n      Line  Complexity_Total  Complexity  Method_Total    Method  \n0  0.71251             654.0    0.620795         288.0  0.868056  ",
      "text/html": "<div>\n<style scoped>\n    .dataframe tbody tr th:only-of-type {\n        vertical-align: middle;\n    }\n\n    .dataframe tbody tr th {\n        vertical-align: top;\n    }\n\n    .dataframe thead th {\n        text-align: right;\n    }\n</style>\n<table border=\"1\" class=\"dataframe\">\n  <thead>\n    <tr style=\"text-align: right;\">\n      <th></th>\n      <th>Instruction_Total</th>\n      <th>Instruction</th>\n      <th>Branch_Total</th>\n      <th>Branch</th>\n      <th>Line_Total</th>\n      <th>Line</th>\n      <th>Complexity_Total</th>\n      <th>Complexity</th>\n      <th>Method_Total</th>\n      <th>Method</th>\n    </tr>\n  </thead>\n  <tbody>\n    <tr>\n      <th>0</th>\n      <td>5037.0</td>\n      <td>0.67977</td>\n      <td>724.0</td>\n      <td>0.540055</td>\n      <td>1207.0</td>\n      <td>0.71251</td>\n      <td>654.0</td>\n      <td>0.620795</td>\n      <td>288.0</td>\n      <td>0.868056</td>\n    </tr>\n  </tbody>\n</table>\n</div>"
     },
     "execution_count": 12,
     "metadata": {},
     "output_type": "execute_result"
    }
   ],
   "source": [
    "columns = ['Instruction_Total', 'Instruction', 'Branch_Total', 'Branch', 'Line_Total', 'Line', 'Complexity_Total', 'Complexity', 'Method_Total', 'Method']\n",
    "df_agg = pd.DataFrame(columns=columns)\n",
    "\n",
    "\n",
    "df_agg = df_agg._append({'Instruction_Total': df['INSTRUCTION_MISSED'].sum() + df['INSTRUCTION_COVERED'].sum(),\n",
    "                        'Instruction': df['INSTRUCTION_COVERED'].sum() / (df['INSTRUCTION_MISSED'].sum() + df['INSTRUCTION_COVERED'].sum()),\n",
    "                        'Branch_Total': df['BRANCH_MISSED'].sum() + df['BRANCH_COVERED'].sum(),\n",
    "                        'Branch': df['BRANCH_COVERED'].sum() / (df['BRANCH_MISSED'].sum() + df['BRANCH_COVERED'].sum()),\n",
    "                        'Line_Total': df['LINE_MISSED'].sum() + df['LINE_COVERED'].sum(),\n",
    "                        'Line': df['LINE_COVERED'].sum() / (df['LINE_MISSED'].sum() + df['LINE_COVERED'].sum()),\n",
    "                        'Complexity_Total': df['COMPLEXITY_MISSED'].sum() + df['COMPLEXITY_COVERED'].sum(),\n",
    "                        'Complexity': df['COMPLEXITY_COVERED'].sum() / (df['COMPLEXITY_MISSED'].sum() + df['COMPLEXITY_COVERED'].sum()),\n",
    "                        'Method_Total': df['METHOD_MISSED'].sum() + df['METHOD_COVERED'].sum(),\n",
    "                        'Method': df['METHOD_COVERED'].sum() / (df['METHOD_MISSED'].sum() + df['METHOD_COVERED'].sum())},\n",
    "                       ignore_index=True)\n",
    "\n",
    "df_agg"
   ],
   "metadata": {
    "collapsed": false,
    "ExecuteTime": {
     "end_time": "2023-10-30T17:29:01.905765Z",
     "start_time": "2023-10-30T17:29:01.900409Z"
    }
   }
  },
  {
   "cell_type": "markdown",
   "source": [
    "## Evaluate coverage from Evosuite generated tests"
   ],
   "metadata": {
    "collapsed": false
   }
  },
  {
   "cell_type": "code",
   "execution_count": 13,
   "outputs": [
    {
     "name": "stderr",
     "output_type": "stream",
     "text": [
      "/var/folders/0g/czf1jpd15jx1w6btr565xw180000gn/T/ipykernel_65572/3972128308.py:8: FutureWarning: The behavior of DataFrame concatenation with empty or all-NA entries is deprecated. In a future version, this will no longer exclude empty or all-NA columns when determining the result dtypes. To retain the old behavior, exclude the relevant entries before the concat operation.\n",
      "  df_agg = df_agg._append({'Instruction_Total': df['INSTRUCTION_MISSED'].sum() + df['INSTRUCTION_COVERED'].sum(),\n"
     ]
    },
    {
     "data": {
      "text/plain": "   Instruction_Total  Instruction  Branch_Total    Branch  Line_Total  \\\n0             5037.0     0.881279         724.0  0.798343      1207.0   \n\n       Line  Complexity_Total  Complexity  Method_Total    Method  \n0  0.896437             654.0    0.836391         288.0  0.986111  ",
      "text/html": "<div>\n<style scoped>\n    .dataframe tbody tr th:only-of-type {\n        vertical-align: middle;\n    }\n\n    .dataframe tbody tr th {\n        vertical-align: top;\n    }\n\n    .dataframe thead th {\n        text-align: right;\n    }\n</style>\n<table border=\"1\" class=\"dataframe\">\n  <thead>\n    <tr style=\"text-align: right;\">\n      <th></th>\n      <th>Instruction_Total</th>\n      <th>Instruction</th>\n      <th>Branch_Total</th>\n      <th>Branch</th>\n      <th>Line_Total</th>\n      <th>Line</th>\n      <th>Complexity_Total</th>\n      <th>Complexity</th>\n      <th>Method_Total</th>\n      <th>Method</th>\n    </tr>\n  </thead>\n  <tbody>\n    <tr>\n      <th>0</th>\n      <td>5037.0</td>\n      <td>0.881279</td>\n      <td>724.0</td>\n      <td>0.798343</td>\n      <td>1207.0</td>\n      <td>0.896437</td>\n      <td>654.0</td>\n      <td>0.836391</td>\n      <td>288.0</td>\n      <td>0.986111</td>\n    </tr>\n  </tbody>\n</table>\n</div>"
     },
     "execution_count": 13,
     "metadata": {},
     "output_type": "execute_result"
    }
   ],
   "source": [
    "# read in csv\n",
    "df = pd.read_csv('coverage_reports_evosuite/coverage_report_evosuite.csv')\n",
    "\n",
    "columns = ['Instruction_Total', 'Instruction', 'Branch_Total', 'Branch', 'Line_Total', 'Line', 'Complexity_Total', 'Complexity', 'Method_Total', 'Method']\n",
    "df_agg = pd.DataFrame(columns=columns)\n",
    "\n",
    "\n",
    "df_agg = df_agg._append({'Instruction_Total': df['INSTRUCTION_MISSED'].sum() + df['INSTRUCTION_COVERED'].sum(),\n",
    "                        'Instruction': df['INSTRUCTION_COVERED'].sum() / (df['INSTRUCTION_MISSED'].sum() + df['INSTRUCTION_COVERED'].sum()),\n",
    "                        'Branch_Total': df['BRANCH_MISSED'].sum() + df['BRANCH_COVERED'].sum(),\n",
    "                        'Branch': df['BRANCH_COVERED'].sum() / (df['BRANCH_MISSED'].sum() + df['BRANCH_COVERED'].sum()),\n",
    "                        'Line_Total': df['LINE_MISSED'].sum() + df['LINE_COVERED'].sum(),\n",
    "                        'Line': df['LINE_COVERED'].sum() / (df['LINE_MISSED'].sum() + df['LINE_COVERED'].sum()),\n",
    "                        'Complexity_Total': df['COMPLEXITY_MISSED'].sum() + df['COMPLEXITY_COVERED'].sum(),\n",
    "                        'Complexity': df['COMPLEXITY_COVERED'].sum() / (df['COMPLEXITY_MISSED'].sum() + df['COMPLEXITY_COVERED'].sum()),\n",
    "                        'Method_Total': df['METHOD_MISSED'].sum() + df['METHOD_COVERED'].sum(),\n",
    "                        'Method': df['METHOD_COVERED'].sum() / (df['METHOD_MISSED'].sum() + df['METHOD_COVERED'].sum())},\n",
    "                       ignore_index=True)\n",
    "\n",
    "df_agg"
   ],
   "metadata": {
    "collapsed": false,
    "ExecuteTime": {
     "end_time": "2023-10-30T17:30:30.161366Z",
     "start_time": "2023-10-30T17:30:30.133192Z"
    }
   }
  },
  {
   "cell_type": "markdown",
   "source": [
    "## Aggregated coverage results for the different test suites\n",
    "\n",
    "| Test Suite                  | Instruction | Branch | Line | Complexity | Method |\n",
    "|-----------------------------| --- | --- | --- | --- |\n",
    "| CodeLlama Individual (mean) | 23.71 | 16.27 | 26.09 | 20.98 | 34.39 |\n",
    "| CodeLlama All Tests         | 67.98 | 54.01 | 71.25 | 62.08 | 86.80 |\n",
    "| Evosuite                    | 88.13 | 79.83 | 89.64 | 83.54 | 98.61 |\n"
   ],
   "metadata": {
    "collapsed": false
   }
  },
  {
   "cell_type": "code",
   "execution_count": null,
   "outputs": [],
   "source": [],
   "metadata": {
    "collapsed": false
   }
  }
 ],
 "metadata": {
  "kernelspec": {
   "display_name": "Python 3",
   "language": "python",
   "name": "python3"
  },
  "language_info": {
   "codemirror_mode": {
    "name": "ipython",
    "version": 2
   },
   "file_extension": ".py",
   "mimetype": "text/x-python",
   "name": "python",
   "nbconvert_exporter": "python",
   "pygments_lexer": "ipython2",
   "version": "2.7.6"
  }
 },
 "nbformat": 4,
 "nbformat_minor": 0
}
