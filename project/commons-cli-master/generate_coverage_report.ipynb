{
 "cells": [
  {
   "cell_type": "markdown",
   "source": [
    "# Generation of a code coverage report using JaCoCo"
   ],
   "metadata": {
    "collapsed": false
   }
  },
  {
   "cell_type": "code",
   "execution_count": 1,
   "metadata": {
    "collapsed": true,
    "ExecuteTime": {
     "end_time": "2023-10-27T14:19:16.201068Z",
     "start_time": "2023-10-27T14:19:16.187396Z"
    }
   },
   "outputs": [],
   "source": [
    "import subprocess\n",
    "import os\n",
    "import xml.etree.ElementTree as ET"
   ]
  },
  {
   "cell_type": "code",
   "execution_count": 59,
   "outputs": [],
   "source": [
    "java_executable = \"java\"\n",
    "jacoco_executable = \"/Users/florianmende/Documents/Development/thesis/evaluation/dependencies/jacoco-0.8.11/lib/jacococli.jar\"\n",
    "java_project_jar = \"/Users/florianmende/Documents/Development/thesis/evaluation/project/commons-cli-master/out/artifacts/commons_cli_jar/commons-cli.jar\"\n",
    "jacoco_exec = '/Users/florianmende/Documents/Development/thesis/evaluation/project/commons-cli-master/target/jacoco.exec'\n",
    "classfiles = '/Users/florianmende/Documents/Development/thesis/evaluation/project/commons-cli-master/target/commons-cli-1.6.0-SNAPSHOT.jar'\n",
    "\n",
    "output_dir = os.path.abspath(os.path.join(os.getcwd(), '../../coverage_reports/'))\n",
    "output_filename = 'cov_rep.csv'\n",
    "output_path = os.path.join(output_dir, output_filename)\n",
    "jacoco_report_command = [java_executable, \"-jar\", jacoco_executable, \"report\", jacoco_exec, \"--classfiles\", classfiles, \"--csv\", output_path]\n",
    "\n",
    "tests_command = \"mvn test\"\n",
    "compile_command = [\"mvn\", \"compile\"]\n",
    "package_command = [\"mvn\", \"package\"]"
   ],
   "metadata": {
    "collapsed": false,
    "ExecuteTime": {
     "end_time": "2023-10-27T11:09:55.582023Z",
     "start_time": "2023-10-27T11:09:55.578716Z"
    }
   }
  },
  {
   "cell_type": "code",
   "execution_count": 48,
   "outputs": [
    {
     "name": "stdout",
     "output_type": "stream",
     "text": [
      "Compiling Java code...\n",
      "[INFO] Scanning for projects...\n",
      "[INFO] \n",
      "[INFO] ----------------------< commons-cli:commons-cli >-----------------------\n",
      "[INFO] Building Apache Commons CLI 1.6.0-SNAPSHOT\n",
      "[INFO]   from pom.xml\n",
      "[INFO] --------------------------------[ jar ]---------------------------------\n",
      "[INFO] \n",
      "[INFO] --- enforcer:3.3.0:enforce (enforce-maven-version) @ commons-cli ---\n",
      "[INFO] Rule 0: org.apache.maven.enforcer.rules.version.RequireMavenVersion passed\n",
      "[INFO] \n",
      "[INFO] --- enforcer:3.3.0:enforce (enforce-java-version) @ commons-cli ---\n",
      "[INFO] Rule 0: org.apache.maven.enforcer.rules.version.RequireJavaVersion passed\n",
      "[INFO] \n",
      "[INFO] --- apache-rat:0.15:check (rat-check) @ commons-cli ---\n",
      "[INFO] Enabled default license matchers.\n",
      "[INFO] Will parse SCM ignores for exclusions...\n",
      "[INFO] Parsing exclusions from /Users/florianmende/Documents/Development/thesis/evaluation/project/commons-cli-master/.gitignore\n",
      "[INFO] Finished adding exclusions from SCM ignore files.\n",
      "[INFO] 76 implicit excludes.\n",
      "[INFO] 15 explicit excludes.\n",
      "[INFO] 101 resources included\n",
      "[INFO] Rat check: Summary over all files. Unapproved: 0, unknown: 0, generated: 0, approved: 93 licenses.\n",
      "[INFO] \n",
      "[INFO] --- build-helper:3.4.0:parse-version (parse-version) @ commons-cli ---\n",
      "[INFO] \n",
      "[INFO] --- jacoco:0.8.10:prepare-agent (default) @ commons-cli ---\n",
      "[INFO] argLine set to -javaagent:/Users/florianmende/.m2/repository/org/jacoco/org.jacoco.agent/0.8.10/org.jacoco.agent-0.8.10-runtime.jar=destfile=/Users/florianmende/Documents/Development/thesis/evaluation/project/commons-cli-master/target/jacoco.exec\n",
      "[INFO] \n",
      "[INFO] --- antrun:3.1.0:run (javadoc.resources) @ commons-cli ---\n",
      "[INFO] Executing tasks\n",
      "[INFO] Executed tasks\n",
      "[INFO] \n",
      "[INFO] --- remote-resources:3.1.0:process (process-resource-bundles) @ commons-cli ---\n",
      "[INFO] Skipping remote resources execution.\n",
      "[INFO] \n",
      "[INFO] --- buildnumber:3.2.0:create (default) @ commons-cli ---\n",
      "[INFO] Executing: /bin/sh -c cd '/Users/florianmende/Documents/Development/thesis/evaluation/project/commons-cli-master' && 'git' 'rev-parse' '--verify' 'HEAD'\n",
      "[INFO] Working directory: /Users/florianmende/Documents/Development/thesis/evaluation/project/commons-cli-master\n",
      "[INFO] Storing buildNumber: ?????? at timestamp: 1698403841757\n",
      "[INFO] Executing: /bin/sh -c cd '/Users/florianmende/Documents/Development/thesis/evaluation/project/commons-cli-master' && 'git' 'symbolic-ref' 'HEAD'\n",
      "[INFO] Working directory: /Users/florianmende/Documents/Development/thesis/evaluation/project/commons-cli-master\n",
      "[WARNING] Cannot get the branch information from the git repository: \n",
      "Detecting the current branch failed: fatal: not a git repository (or any of the parent directories): .git\n",
      "\n",
      "[INFO] Executing: /bin/sh -c cd '/Users/florianmende/Documents/Development/thesis/evaluation/project/commons-cli-master' && 'git' 'rev-parse' '--verify' 'HEAD'\n",
      "[INFO] Working directory: /Users/florianmende/Documents/Development/thesis/evaluation/project/commons-cli-master\n",
      "[INFO] Storing scmBranch: UNKNOWN_BRANCH\n",
      "[INFO] \n",
      "[INFO] --- resources:3.3.1:resources (default-resources) @ commons-cli ---\n",
      "[INFO] skip non existing resourceDirectory /Users/florianmende/Documents/Development/thesis/evaluation/project/commons-cli-master/src/main/resources\n",
      "[INFO] Copying 2 resources from  to target/classes/META-INF\n",
      "[INFO] \n",
      "[INFO] --- compiler:3.11.0:compile (default-compile) @ commons-cli ---\n",
      "[INFO] Nothing to compile - all classes are up to date\n",
      "[INFO] ------------------------------------------------------------------------\n",
      "[INFO] BUILD SUCCESS\n",
      "[INFO] ------------------------------------------------------------------------\n",
      "[INFO] Total time:  1.258 s\n",
      "[INFO] Finished at: 2023-10-27T12:50:41+02:00\n",
      "[INFO] ------------------------------------------------------------------------\n"
     ]
    },
    {
     "data": {
      "text/plain": "CompletedProcess(args=['mvn', 'compile'], returncode=0)"
     },
     "execution_count": 48,
     "metadata": {},
     "output_type": "execute_result"
    }
   ],
   "source": [
    "print(\"Compiling Java code...\")\n",
    "subprocess.run(compile_command)"
   ],
   "metadata": {
    "collapsed": false,
    "ExecuteTime": {
     "end_time": "2023-10-27T10:50:41.907840Z",
     "start_time": "2023-10-27T10:50:39.455840Z"
    }
   }
  },
  {
   "cell_type": "code",
   "execution_count": 49,
   "outputs": [
    {
     "name": "stdout",
     "output_type": "stream",
     "text": [
      "Packaging Java code into a JAR file...\n",
      "[INFO] Scanning for projects...\n",
      "[INFO] \n",
      "[INFO] ----------------------< commons-cli:commons-cli >-----------------------\n",
      "[INFO] Building Apache Commons CLI 1.6.0-SNAPSHOT\n",
      "[INFO]   from pom.xml\n",
      "[INFO] --------------------------------[ jar ]---------------------------------\n",
      "[INFO] \n",
      "[INFO] --- enforcer:3.3.0:enforce (enforce-maven-version) @ commons-cli ---\n",
      "[INFO] Rule 0: org.apache.maven.enforcer.rules.version.RequireMavenVersion passed\n",
      "[INFO] \n",
      "[INFO] --- enforcer:3.3.0:enforce (enforce-java-version) @ commons-cli ---\n",
      "[INFO] Rule 0: org.apache.maven.enforcer.rules.version.RequireJavaVersion passed\n",
      "[INFO] \n",
      "[INFO] --- apache-rat:0.15:check (rat-check) @ commons-cli ---\n",
      "[INFO] Enabled default license matchers.\n",
      "[INFO] Will parse SCM ignores for exclusions...\n",
      "[INFO] Parsing exclusions from /Users/florianmende/Documents/Development/thesis/evaluation/project/commons-cli-master/.gitignore\n",
      "[INFO] Finished adding exclusions from SCM ignore files.\n",
      "[INFO] 76 implicit excludes.\n",
      "[INFO] 15 explicit excludes.\n",
      "[INFO] 101 resources included\n",
      "[INFO] Rat check: Summary over all files. Unapproved: 0, unknown: 0, generated: 0, approved: 93 licenses.\n",
      "[INFO] \n",
      "[INFO] --- build-helper:3.4.0:parse-version (parse-version) @ commons-cli ---\n",
      "[INFO] \n",
      "[INFO] --- jacoco:0.8.10:prepare-agent (default) @ commons-cli ---\n",
      "[INFO] argLine set to -javaagent:/Users/florianmende/.m2/repository/org/jacoco/org.jacoco.agent/0.8.10/org.jacoco.agent-0.8.10-runtime.jar=destfile=/Users/florianmende/Documents/Development/thesis/evaluation/project/commons-cli-master/target/jacoco.exec\n",
      "[INFO] \n",
      "[INFO] --- antrun:3.1.0:run (javadoc.resources) @ commons-cli ---\n",
      "[INFO] Executing tasks\n",
      "[INFO] Executed tasks\n",
      "[INFO] \n",
      "[INFO] --- remote-resources:3.1.0:process (process-resource-bundles) @ commons-cli ---\n",
      "[INFO] Skipping remote resources execution.\n",
      "[INFO] \n",
      "[INFO] --- buildnumber:3.2.0:create (default) @ commons-cli ---\n",
      "[INFO] Executing: /bin/sh -c cd '/Users/florianmende/Documents/Development/thesis/evaluation/project/commons-cli-master' && 'git' 'rev-parse' '--verify' 'HEAD'\n",
      "[INFO] Working directory: /Users/florianmende/Documents/Development/thesis/evaluation/project/commons-cli-master\n",
      "[INFO] Storing buildNumber: ?????? at timestamp: 1698403843927\n",
      "[INFO] Executing: /bin/sh -c cd '/Users/florianmende/Documents/Development/thesis/evaluation/project/commons-cli-master' && 'git' 'symbolic-ref' 'HEAD'\n",
      "[INFO] Working directory: /Users/florianmende/Documents/Development/thesis/evaluation/project/commons-cli-master\n",
      "[WARNING] Cannot get the branch information from the git repository: \n",
      "Detecting the current branch failed: fatal: not a git repository (or any of the parent directories): .git\n",
      "\n",
      "[INFO] Executing: /bin/sh -c cd '/Users/florianmende/Documents/Development/thesis/evaluation/project/commons-cli-master' && 'git' 'rev-parse' '--verify' 'HEAD'\n",
      "[INFO] Working directory: /Users/florianmende/Documents/Development/thesis/evaluation/project/commons-cli-master\n",
      "[INFO] Storing scmBranch: UNKNOWN_BRANCH\n",
      "[INFO] \n",
      "[INFO] --- resources:3.3.1:resources (default-resources) @ commons-cli ---\n",
      "[INFO] skip non existing resourceDirectory /Users/florianmende/Documents/Development/thesis/evaluation/project/commons-cli-master/src/main/resources\n",
      "[INFO] Copying 2 resources from  to target/classes/META-INF\n",
      "[INFO] \n",
      "[INFO] --- compiler:3.11.0:compile (default-compile) @ commons-cli ---\n",
      "[INFO] Nothing to compile - all classes are up to date\n",
      "[INFO] \n",
      "[INFO] --- bundle:5.1.9:manifest (bundle-manifest) @ commons-cli ---\n",
      "[INFO] Writing manifest: /Users/florianmende/Documents/Development/thesis/evaluation/project/commons-cli-master/target/osgi/MANIFEST.MF\n",
      "[INFO] \n",
      "[INFO] --- resources:3.3.1:testResources (default-testResources) @ commons-cli ---\n",
      "[INFO] Copying 1 resource from src/test/resources to target/test-classes\n",
      "[INFO] Copying 2 resources from  to target/test-classes/META-INF\n",
      "[INFO] \n",
      "[INFO] --- compiler:3.11.0:testCompile (default-testCompile) @ commons-cli ---\n",
      "[INFO] Nothing to compile - all classes are up to date\n",
      "[INFO] \n",
      "[INFO] --- jacoco:0.8.10:prepare-agent (prepare-agent) @ commons-cli ---\n",
      "[INFO] argLine set to -javaagent:/Users/florianmende/.m2/repository/org/jacoco/org.jacoco.agent/0.8.10/org.jacoco.agent-0.8.10-runtime.jar=destfile=/Users/florianmende/Documents/Development/thesis/evaluation/project/commons-cli-master/target/jacoco.exec\n",
      "[INFO] \n",
      "[INFO] --- surefire:3.1.2:test (default-test) @ commons-cli ---\n",
      "[INFO] Using auto detected provider org.apache.maven.surefire.junitplatform.JUnitPlatformProvider\n",
      "[INFO] \n",
      "[INFO] -------------------------------------------------------\n",
      "[INFO]  T E S T S\n",
      "[INFO] -------------------------------------------------------\n",
      "[INFO] Running org.apache.commons.cli.UtilTest\n",
      "[INFO] Tests run: 2, Failures: 0, Errors: 0, Skipped: 0, Time elapsed: 0.014 s -- in org.apache.commons.cli.UtilTest\n",
      "[INFO] Running org.apache.commons.cli.DisablePartialMatchingTest\n",
      "[INFO] Tests run: 2, Failures: 0, Errors: 0, Skipped: 0, Time elapsed: 0.002 s -- in org.apache.commons.cli.DisablePartialMatchingTest\n",
      "[INFO] Running org.apache.commons.cli.CommandLineTest\n",
      "[INFO] Tests run: 10, Failures: 0, Errors: 0, Skipped: 0, Time elapsed: 0.006 s -- in org.apache.commons.cli.CommandLineTest\n",
      "[INFO] Running org.apache.commons.cli.PatternOptionBuilderTest\n",
      "[INFO] Tests run: 10, Failures: 0, Errors: 0, Skipped: 0, Time elapsed: 0.120 s -- in org.apache.commons.cli.PatternOptionBuilderTest\n",
      "[INFO] Running org.apache.commons.cli.DefaultParserTest\n",
      "[INFO] Tests run: 71, Failures: 0, Errors: 0, Skipped: 0, Time elapsed: 0.019 s -- in org.apache.commons.cli.DefaultParserTest\n",
      "[INFO] Running org.apache.commons.cli.HelpFormatterTest\n",
      "[INFO] Tests run: 27, Failures: 0, Errors: 0, Skipped: 0, Time elapsed: 0.007 s -- in org.apache.commons.cli.HelpFormatterTest\n",
      "[INFO] Running org.apache.commons.cli.bug.BugCLI133Test\n",
      "[INFO] Tests run: 1, Failures: 0, Errors: 0, Skipped: 0, Time elapsed: 0 s -- in org.apache.commons.cli.bug.BugCLI133Test\n",
      "[INFO] Running org.apache.commons.cli.bug.BugCLI13Test\n",
      "[INFO] Tests run: 1, Failures: 0, Errors: 0, Skipped: 0, Time elapsed: 0.001 s -- in org.apache.commons.cli.bug.BugCLI13Test\n",
      "[INFO] Running org.apache.commons.cli.bug.BugCLI18Test\n",
      "[INFO] Tests run: 1, Failures: 0, Errors: 0, Skipped: 0, Time elapsed: 0.001 s -- in org.apache.commons.cli.bug.BugCLI18Test\n",
      "[INFO] Running org.apache.commons.cli.bug.BugCLI148Test\n",
      "[INFO] Tests run: 2, Failures: 0, Errors: 0, Skipped: 0, Time elapsed: 0 s -- in org.apache.commons.cli.bug.BugCLI148Test\n",
      "[INFO] Running org.apache.commons.cli.bug.BugCLI71Test\n",
      "[INFO] Tests run: 4, Failures: 0, Errors: 0, Skipped: 0, Time elapsed: 0 s -- in org.apache.commons.cli.bug.BugCLI71Test\n",
      "[INFO] Running org.apache.commons.cli.bug.BugCLI265Test\n",
      "[INFO] Tests run: 3, Failures: 0, Errors: 0, Skipped: 0, Time elapsed: 0 s -- in org.apache.commons.cli.bug.BugCLI265Test\n",
      "[INFO] Running org.apache.commons.cli.bug.BugCLI162Test\n",
      "[INFO] Tests run: 4, Failures: 0, Errors: 0, Skipped: 0, Time elapsed: 0.002 s -- in org.apache.commons.cli.bug.BugCLI162Test\n",
      "[INFO] Running org.apache.commons.cli.bug.BugCLI266Test\n",
      "[INFO] Tests run: 2, Failures: 0, Errors: 0, Skipped: 0, Time elapsed: 0 s -- in org.apache.commons.cli.bug.BugCLI266Test\n",
      "[INFO] Running org.apache.commons.cli.bug.BugsTest\n",
      "[INFO] Tests run: 12, Failures: 0, Errors: 0, Skipped: 0, Time elapsed: 0.003 s -- in org.apache.commons.cli.bug.BugsTest\n",
      "[INFO] Running org.apache.commons.cli.bug.BugCLI252Test\n",
      "[INFO] Tests run: 2, Failures: 0, Errors: 0, Skipped: 0, Time elapsed: 0.004 s -- in org.apache.commons.cli.bug.BugCLI252Test\n",
      "[INFO] Running org.apache.commons.cli.ApplicationTest\n",
      "[INFO] Tests run: 5, Failures: 0, Errors: 0, Skipped: 0, Time elapsed: 0.001 s -- in org.apache.commons.cli.ApplicationTest\n",
      "[INFO] Running org.apache.commons.cli.OptionGroupTest\n",
      "[INFO] Tests run: 13, Failures: 0, Errors: 0, Skipped: 0, Time elapsed: 0.002 s -- in org.apache.commons.cli.OptionGroupTest\n",
      "[INFO] Running org.apache.commons.cli.OptionTest\n",
      "[INFO] Tests run: 14, Failures: 0, Errors: 0, Skipped: 0, Time elapsed: 0.002 s -- in org.apache.commons.cli.OptionTest\n",
      "[INFO] Running org.apache.commons.cli.ArgumentIsOptionTest\n",
      "[INFO] Tests run: 3, Failures: 0, Errors: 0, Skipped: 0, Time elapsed: 0.001 s -- in org.apache.commons.cli.ArgumentIsOptionTest\n",
      "[INFO] Running org.apache.commons.cli.GnuParserTest\n",
      "[WARNING] Tests run: 64, Failures: 0, Errors: 0, Skipped: 22, Time elapsed: 0.007 s -- in org.apache.commons.cli.GnuParserTest\n",
      "[INFO] Running org.apache.commons.cli.PosixParserTest\n"
     ]
    },
    {
     "name": "stderr",
     "output_type": "stream",
     "text": [
      "Exception found converting v to desired type: Unable to parse the URL: foo://commons.apache.org\n",
      "Exception found converting d to desired type: Unable to find the class: System.DateTime\n",
      "Exception found converting f to desired type: Unable to find file: non-existing.file\n",
      "Exception found converting x to desired type: For input string: \"3,5\"\n",
      "Exception found converting i to desired type: java.lang.NoSuchMethodException; Unable to create an instance of: java.util.Calendar\n",
      "Exception found converting n to desired type: Unable to find the class: System.DateTime\n"
     ]
    },
    {
     "name": "stdout",
     "output_type": "stream",
     "text": [
      "[WARNING] Tests run: 64, Failures: 0, Errors: 0, Skipped: 10, Time elapsed: 0.006 s -- in org.apache.commons.cli.PosixParserTest\n",
      "[INFO] Running org.apache.commons.cli.OptionBuilderTest\n",
      "[INFO] Tests run: 9, Failures: 0, Errors: 0, Skipped: 0, Time elapsed: 0.001 s -- in org.apache.commons.cli.OptionBuilderTest\n",
      "[INFO] Running org.apache.commons.cli.TypeHandlerTest\n",
      "[INFO] Tests run: 17, Failures: 0, Errors: 0, Skipped: 0, Time elapsed: 0.003 s -- in org.apache.commons.cli.TypeHandlerTest\n",
      "[INFO] Running org.apache.commons.cli.OptionsTest\n",
      "[INFO] Tests run: 10, Failures: 0, Errors: 0, Skipped: 0, Time elapsed: 0.001 s -- in org.apache.commons.cli.OptionsTest\n",
      "[INFO] Running org.apache.commons.cli.BasicParserTest\n",
      "[WARNING] Tests run: 64, Failures: 0, Errors: 0, Skipped: 27, Time elapsed: 0.006 s -- in org.apache.commons.cli.BasicParserTest\n",
      "[INFO] Running org.apache.commons.cli.ValueTest\n",
      "[INFO] Tests run: 24, Failures: 0, Errors: 0, Skipped: 0, Time elapsed: 0.003 s -- in org.apache.commons.cli.ValueTest\n",
      "[INFO] Running org.apache.commons.cli.ValuesTest\n",
      "[INFO] Tests run: 7, Failures: 0, Errors: 0, Skipped: 0, Time elapsed: 0.001 s -- in org.apache.commons.cli.ValuesTest\n",
      "[INFO] \n",
      "[INFO] Results:\n",
      "[INFO] \n",
      "[WARNING] Tests run: 448, Failures: 0, Errors: 0, Skipped: 59\n",
      "[INFO] \n",
      "[INFO] \n",
      "[INFO] --- jacoco:0.8.10:report (report) @ commons-cli ---\n",
      "[INFO] Loading execution data file /Users/florianmende/Documents/Development/thesis/evaluation/project/commons-cli-master/target/jacoco.exec\n",
      "[INFO] Analyzed bundle 'Apache Commons CLI' with 25 classes\n",
      "[INFO] \n",
      "[INFO] --- jar:3.3.0:jar (default-jar) @ commons-cli ---\n",
      "[INFO] Building jar: /Users/florianmende/Documents/Development/thesis/evaluation/project/commons-cli-master/target/commons-cli-1.6.0-SNAPSHOT.jar\n",
      "[INFO] \n",
      "[INFO] --- site:3.12.1:attach-descriptor (attach-descriptor) @ commons-cli ---\n",
      "[INFO] Skipping because packaging 'jar' is not pom.\n",
      "[INFO] \n",
      "[INFO] --- jar:3.3.0:test-jar (default) @ commons-cli ---\n",
      "[INFO] Building jar: /Users/florianmende/Documents/Development/thesis/evaluation/project/commons-cli-master/target/commons-cli-1.6.0-SNAPSHOT-tests.jar\n",
      "[INFO] \n",
      "[INFO] --- source:3.2.1:jar-no-fork (create-source-jar) @ commons-cli ---\n",
      "[INFO] Building jar: /Users/florianmende/Documents/Development/thesis/evaluation/project/commons-cli-master/target/commons-cli-1.6.0-SNAPSHOT-sources.jar\n",
      "[INFO] \n",
      "[INFO] --- source:3.2.1:test-jar-no-fork (create-source-jar) @ commons-cli ---\n",
      "[INFO] Building jar: /Users/florianmende/Documents/Development/thesis/evaluation/project/commons-cli-master/target/commons-cli-1.6.0-SNAPSHOT-test-sources.jar\n",
      "[INFO] \n",
      "[INFO] --- cyclonedx:2.7.9:makeAggregateBom (build-sbom-cyclonedx) @ commons-cli ---\n",
      "[INFO] CycloneDX: Resolving Dependencies\n",
      "[INFO] CycloneDX: Creating BOM version 1.4 with 0 component(s)\n",
      "[INFO] CycloneDX: Writing and validating BOM (XML): /Users/florianmende/Documents/Development/thesis/evaluation/project/commons-cli-master/target/commons-cli-1.6.0-SNAPSHOT-bom.xml\n",
      "[INFO]            attaching as commons-cli-1.6.0-SNAPSHOT-cyclonedx.xml\n",
      "[INFO] CycloneDX: Writing and validating BOM (JSON): /Users/florianmende/Documents/Development/thesis/evaluation/project/commons-cli-master/target/commons-cli-1.6.0-SNAPSHOT-bom.json\n",
      "[WARNING] Unknown keyword additionalItems - you should define your own Meta Schema. If the keyword is irrelevant for validation, just use a NonValidationKeyword\n",
      "[INFO]            attaching as commons-cli-1.6.0-SNAPSHOT-cyclonedx.json\n",
      "[INFO] \n",
      "[INFO] --- spdx:0.7.0:createSPDX (build-sbom-spdx) @ commons-cli ---\n",
      "[INFO] spdx file type = .json\n",
      "[INFO] Creating SPDX File /Users/florianmende/Documents/Development/thesis/evaluation/project/commons-cli-master/target/site/commons-cli_commons-cli-1.6.0-SNAPSHOT.spdx.json\n",
      "[WARNING] Unable to map maven licenses to a declared license.  Using NOASSERTION\n",
      "[INFO] \n",
      "[INFO] --- moditect:1.0.0.Final:add-module-info (add-module-infos) @ commons-cli ---\n",
      "[INFO] Running jdeps --generate-module-info /Users/florianmende/Documents/Development/thesis/evaluation/project/commons-cli-master/target/moditect --multi-release=9 /Users/florianmende/Documents/Development/thesis/evaluation/project/commons-cli-master/target/commons-cli-1.6.0-SNAPSHOT.jar\n",
      "writing to /Users/florianmende/Documents/Development/thesis/evaluation/project/commons-cli-master/target/moditect/commons.cli/versions/9/module-info.java\n",
      "[INFO] Created module descriptor at /Users/florianmende/Documents/Development/thesis/evaluation/project/commons-cli-master/target/moditect/generated-sources/org.apache.commons.cli/module-info.java\n",
      "[INFO] ------------------------------------------------------------------------\n",
      "[INFO] BUILD SUCCESS\n",
      "[INFO] ------------------------------------------------------------------------\n",
      "[INFO] Total time:  7.595 s\n",
      "[INFO] Finished at: 2023-10-27T12:50:50+02:00\n",
      "[INFO] ------------------------------------------------------------------------\n"
     ]
    },
    {
     "data": {
      "text/plain": "CompletedProcess(args=['mvn', 'package'], returncode=0)"
     },
     "execution_count": 49,
     "metadata": {},
     "output_type": "execute_result"
    }
   ],
   "source": [
    "print(\"Packaging Java code into a JAR file...\")\n",
    "subprocess.run(package_command)"
   ],
   "metadata": {
    "collapsed": false,
    "ExecuteTime": {
     "end_time": "2023-10-27T10:50:50.439362Z",
     "start_time": "2023-10-27T10:50:41.910718Z"
    }
   }
  },
  {
   "cell_type": "code",
   "execution_count": 50,
   "outputs": [
    {
     "name": "stdout",
     "output_type": "stream",
     "text": [
      "Running tests...\n",
      "[INFO] Scanning for projects...\n",
      "[INFO] \n",
      "[INFO] ----------------------< commons-cli:commons-cli >-----------------------\n",
      "[INFO] Building Apache Commons CLI 1.6.0-SNAPSHOT\n",
      "[INFO]   from pom.xml\n",
      "[INFO] --------------------------------[ jar ]---------------------------------\n",
      "[INFO] \n",
      "[INFO] --- enforcer:3.3.0:enforce (enforce-maven-version) @ commons-cli ---\n",
      "[INFO] Rule 0: org.apache.maven.enforcer.rules.version.RequireMavenVersion passed\n",
      "[INFO] \n",
      "[INFO] --- enforcer:3.3.0:enforce (enforce-java-version) @ commons-cli ---\n",
      "[INFO] Rule 0: org.apache.maven.enforcer.rules.version.RequireJavaVersion passed\n",
      "[INFO] \n",
      "[INFO] --- apache-rat:0.15:check (rat-check) @ commons-cli ---\n",
      "[INFO] Enabled default license matchers.\n",
      "[INFO] Will parse SCM ignores for exclusions...\n",
      "[INFO] Parsing exclusions from /Users/florianmende/Documents/Development/thesis/evaluation/project/commons-cli-master/.gitignore\n",
      "[INFO] Finished adding exclusions from SCM ignore files.\n",
      "[INFO] 76 implicit excludes.\n",
      "[INFO] 15 explicit excludes.\n",
      "[INFO] 101 resources included\n",
      "[INFO] Rat check: Summary over all files. Unapproved: 0, unknown: 0, generated: 0, approved: 93 licenses.\n",
      "[INFO] \n",
      "[INFO] --- build-helper:3.4.0:parse-version (parse-version) @ commons-cli ---\n",
      "[INFO] \n",
      "[INFO] --- jacoco:0.8.10:prepare-agent (default) @ commons-cli ---\n",
      "[INFO] argLine set to -javaagent:/Users/florianmende/.m2/repository/org/jacoco/org.jacoco.agent/0.8.10/org.jacoco.agent-0.8.10-runtime.jar=destfile=/Users/florianmende/Documents/Development/thesis/evaluation/project/commons-cli-master/target/jacoco.exec\n",
      "[INFO] \n",
      "[INFO] --- antrun:3.1.0:run (javadoc.resources) @ commons-cli ---\n",
      "[INFO] Executing tasks\n",
      "[INFO] Executed tasks\n",
      "[INFO] \n",
      "[INFO] --- remote-resources:3.1.0:process (process-resource-bundles) @ commons-cli ---\n",
      "[INFO] Skipping remote resources execution.\n",
      "[INFO] \n",
      "[INFO] --- buildnumber:3.2.0:create (default) @ commons-cli ---\n",
      "[INFO] Executing: /bin/sh -c cd '/Users/florianmende/Documents/Development/thesis/evaluation/project/commons-cli-master' && 'git' 'rev-parse' '--verify' 'HEAD'\n",
      "[INFO] Working directory: /Users/florianmende/Documents/Development/thesis/evaluation/project/commons-cli-master\n",
      "[INFO] Storing buildNumber: ?????? at timestamp: 1698403852310\n",
      "[INFO] Executing: /bin/sh -c cd '/Users/florianmende/Documents/Development/thesis/evaluation/project/commons-cli-master' && 'git' 'symbolic-ref' 'HEAD'\n",
      "[INFO] Working directory: /Users/florianmende/Documents/Development/thesis/evaluation/project/commons-cli-master\n",
      "[WARNING] Cannot get the branch information from the git repository: \n",
      "Detecting the current branch failed: fatal: not a git repository (or any of the parent directories): .git\n",
      "\n",
      "[INFO] Executing: /bin/sh -c cd '/Users/florianmende/Documents/Development/thesis/evaluation/project/commons-cli-master' && 'git' 'rev-parse' '--verify' 'HEAD'\n",
      "[INFO] Working directory: /Users/florianmende/Documents/Development/thesis/evaluation/project/commons-cli-master\n",
      "[INFO] Storing scmBranch: UNKNOWN_BRANCH\n",
      "[INFO] \n",
      "[INFO] --- resources:3.3.1:resources (default-resources) @ commons-cli ---\n",
      "[INFO] skip non existing resourceDirectory /Users/florianmende/Documents/Development/thesis/evaluation/project/commons-cli-master/src/main/resources\n",
      "[INFO] Copying 2 resources from  to target/classes/META-INF\n",
      "[INFO] \n",
      "[INFO] --- compiler:3.11.0:compile (default-compile) @ commons-cli ---\n",
      "[INFO] Nothing to compile - all classes are up to date\n",
      "[INFO] \n",
      "[INFO] --- bundle:5.1.9:manifest (bundle-manifest) @ commons-cli ---\n",
      "[INFO] Writing manifest: /Users/florianmende/Documents/Development/thesis/evaluation/project/commons-cli-master/target/osgi/MANIFEST.MF\n",
      "[INFO] \n",
      "[INFO] --- resources:3.3.1:testResources (default-testResources) @ commons-cli ---\n",
      "[INFO] Copying 1 resource from src/test/resources to target/test-classes\n",
      "[INFO] Copying 2 resources from  to target/test-classes/META-INF\n",
      "[INFO] \n",
      "[INFO] --- compiler:3.11.0:testCompile (default-testCompile) @ commons-cli ---\n",
      "[INFO] Nothing to compile - all classes are up to date\n",
      "[INFO] \n",
      "[INFO] --- jacoco:0.8.10:prepare-agent (prepare-agent) @ commons-cli ---\n",
      "[INFO] argLine set to -javaagent:/Users/florianmende/.m2/repository/org/jacoco/org.jacoco.agent/0.8.10/org.jacoco.agent-0.8.10-runtime.jar=destfile=/Users/florianmende/Documents/Development/thesis/evaluation/project/commons-cli-master/target/jacoco.exec\n",
      "[INFO] \n",
      "[INFO] --- surefire:3.1.2:test (default-test) @ commons-cli ---\n",
      "[INFO] Using auto detected provider org.apache.maven.surefire.junitplatform.JUnitPlatformProvider\n",
      "[INFO] \n",
      "[INFO] -------------------------------------------------------\n",
      "[INFO]  T E S T S\n",
      "[INFO] -------------------------------------------------------\n",
      "[INFO] Running org.apache.commons.cli.UtilTest\n",
      "[INFO] Tests run: 2, Failures: 0, Errors: 0, Skipped: 0, Time elapsed: 0.013 s -- in org.apache.commons.cli.UtilTest\n",
      "[INFO] Running org.apache.commons.cli.DisablePartialMatchingTest\n",
      "[INFO] Tests run: 2, Failures: 0, Errors: 0, Skipped: 0, Time elapsed: 0.002 s -- in org.apache.commons.cli.DisablePartialMatchingTest\n",
      "[INFO] Running org.apache.commons.cli.CommandLineTest\n",
      "[INFO] Tests run: 10, Failures: 0, Errors: 0, Skipped: 0, Time elapsed: 0.006 s -- in org.apache.commons.cli.CommandLineTest\n",
      "[INFO] Running org.apache.commons.cli.PatternOptionBuilderTest\n",
      "[INFO] Tests run: 10, Failures: 0, Errors: 0, Skipped: 0, Time elapsed: 0.008 s -- in org.apache.commons.cli.PatternOptionBuilderTest\n",
      "[INFO] Running org.apache.commons.cli.DefaultParserTest\n",
      "[INFO] Tests run: 71, Failures: 0, Errors: 0, Skipped: 0, Time elapsed: 0.022 s -- in org.apache.commons.cli.DefaultParserTest\n",
      "[INFO] Running org.apache.commons.cli.HelpFormatterTest\n",
      "[INFO] Tests run: 27, Failures: 0, Errors: 0, Skipped: 0, Time elapsed: 0.006 s -- in org.apache.commons.cli.HelpFormatterTest\n",
      "[INFO] Running org.apache.commons.cli.bug.BugCLI133Test\n",
      "[INFO] Tests run: 1, Failures: 0, Errors: 0, Skipped: 0, Time elapsed: 0 s -- in org.apache.commons.cli.bug.BugCLI133Test\n",
      "[INFO] Running org.apache.commons.cli.bug.BugCLI13Test\n",
      "[INFO] Tests run: 1, Failures: 0, Errors: 0, Skipped: 0, Time elapsed: 0 s -- in org.apache.commons.cli.bug.BugCLI13Test\n",
      "[INFO] Running org.apache.commons.cli.bug.BugCLI18Test\n",
      "[INFO] Tests run: 1, Failures: 0, Errors: 0, Skipped: 0, Time elapsed: 0 s -- in org.apache.commons.cli.bug.BugCLI18Test\n",
      "[INFO] Running org.apache.commons.cli.bug.BugCLI148Test\n",
      "[INFO] Tests run: 2, Failures: 0, Errors: 0, Skipped: 0, Time elapsed: 0.001 s -- in org.apache.commons.cli.bug.BugCLI148Test\n",
      "[INFO] Running org.apache.commons.cli.bug.BugCLI71Test\n",
      "[INFO] Tests run: 4, Failures: 0, Errors: 0, Skipped: 0, Time elapsed: 0.001 s -- in org.apache.commons.cli.bug.BugCLI71Test\n",
      "[INFO] Running org.apache.commons.cli.bug.BugCLI265Test\n",
      "[INFO] Tests run: 3, Failures: 0, Errors: 0, Skipped: 0, Time elapsed: 0.001 s -- in org.apache.commons.cli.bug.BugCLI265Test\n",
      "[INFO] Running org.apache.commons.cli.bug.BugCLI162Test\n",
      "[INFO] Tests run: 4, Failures: 0, Errors: 0, Skipped: 0, Time elapsed: 0.002 s -- in org.apache.commons.cli.bug.BugCLI162Test\n",
      "[INFO] Running org.apache.commons.cli.bug.BugCLI266Test\n",
      "[INFO] Tests run: 2, Failures: 0, Errors: 0, Skipped: 0, Time elapsed: 0.001 s -- in org.apache.commons.cli.bug.BugCLI266Test\n",
      "[INFO] Running org.apache.commons.cli.bug.BugsTest\n",
      "[INFO] Tests run: 12, Failures: 0, Errors: 0, Skipped: 0, Time elapsed: 0.002 s -- in org.apache.commons.cli.bug.BugsTest\n",
      "[INFO] Running org.apache.commons.cli.bug.BugCLI252Test\n",
      "[INFO] Tests run: 2, Failures: 0, Errors: 0, Skipped: 0, Time elapsed: 0.005 s -- in org.apache.commons.cli.bug.BugCLI252Test\n",
      "[INFO] Running org.apache.commons.cli.ApplicationTest\n",
      "[INFO] Tests run: 5, Failures: 0, Errors: 0, Skipped: 0, Time elapsed: 0.002 s -- in org.apache.commons.cli.ApplicationTest\n",
      "[INFO] Running org.apache.commons.cli.OptionGroupTest\n",
      "[INFO] Tests run: 13, Failures: 0, Errors: 0, Skipped: 0, Time elapsed: 0.002 s -- in org.apache.commons.cli.OptionGroupTest\n",
      "[INFO] Running org.apache.commons.cli.OptionTest\n",
      "[INFO] Tests run: 14, Failures: 0, Errors: 0, Skipped: 0, Time elapsed: 0.003 s -- in org.apache.commons.cli.OptionTest\n",
      "[INFO] Running org.apache.commons.cli.ArgumentIsOptionTest\n",
      "[INFO] Tests run: 3, Failures: 0, Errors: 0, Skipped: 0, Time elapsed: 0.001 s -- in org.apache.commons.cli.ArgumentIsOptionTest\n",
      "[INFO] Running org.apache.commons.cli.GnuParserTest\n",
      "[WARNING] Tests run: 64, Failures: 0, Errors: 0, Skipped: 22, Time elapsed: 0.008 s -- in org.apache.commons.cli.GnuParserTest\n",
      "[INFO] Running org.apache.commons.cli.PosixParserTest\n",
      "[WARNING] Tests run: 64, Failures: 0, Errors: 0, Skipped: 10, Time elapsed: 0.007 s -- in org.apache.commons.cli.PosixParserTest\n",
      "[INFO] Running org.apache.commons.cli.OptionBuilderTest\n",
      "[INFO] Tests run: 9, Failures: 0, Errors: 0, Skipped: 0, Time elapsed: 0.001 s -- in org.apache.commons.cli.OptionBuilderTest\n",
      "[INFO] Running org.apache.commons.cli.TypeHandlerTest\n",
      "[INFO] Tests run: 17, Failures: 0, Errors: 0, Skipped: 0, Time elapsed: 0.004 s -- in org.apache.commons.cli.TypeHandlerTest\n",
      "[INFO] Running org.apache.commons.cli.OptionsTest\n",
      "[INFO] Tests run: 10, Failures: 0, Errors: 0, Skipped: 0, Time elapsed: 0.001 s -- in org.apache.commons.cli.OptionsTest\n",
      "[INFO] Running org.apache.commons.cli.BasicParserTest\n",
      "[WARNING] Tests run: 64, Failures: 0, Errors: 0, Skipped: 27, Time elapsed: 0.006 s -- in org.apache.commons.cli.BasicParserTest\n",
      "[INFO] Running org.apache.commons.cli.ValueTest\n",
      "[INFO] Tests run: 24, Failures: 0, Errors: 0, Skipped: 0, Time elapsed: 0.004 s -- in org.apache.commons.cli.ValueTest\n",
      "[INFO] Running org.apache.commons.cli.ValuesTest\n",
      "[INFO] Tests run: 7, Failures: 0, Errors: 0, Skipped: 0, Time elapsed: 0.001 s -- in org.apache.commons.cli.ValuesTest\n",
      "[INFO] \n",
      "[INFO] Results:\n",
      "[INFO] \n",
      "[WARNING] Tests run: 448, Failures: 0, Errors: 0, Skipped: 59\n",
      "[INFO] \n",
      "[INFO] ------------------------------------------------------------------------\n",
      "[INFO] BUILD SUCCESS\n",
      "[INFO] ------------------------------------------------------------------------\n",
      "[INFO] Total time:  2.485 s\n",
      "[INFO] Finished at: 2023-10-27T12:50:53+02:00\n",
      "[INFO] ------------------------------------------------------------------------\n"
     ]
    },
    {
     "name": "stderr",
     "output_type": "stream",
     "text": [
      "Exception found converting v to desired type: Unable to parse the URL: foo://commons.apache.org\n",
      "Exception found converting d to desired type: Unable to find the class: System.DateTime\n",
      "Exception found converting f to desired type: Unable to find file: non-existing.file\n",
      "Exception found converting x to desired type: For input string: \"3,5\"\n",
      "Exception found converting i to desired type: java.lang.NoSuchMethodException; Unable to create an instance of: java.util.Calendar\n",
      "Exception found converting n to desired type: Unable to find the class: System.DateTime\n"
     ]
    },
    {
     "data": {
      "text/plain": "CompletedProcess(args='mvn test', returncode=0)"
     },
     "execution_count": 50,
     "metadata": {},
     "output_type": "execute_result"
    }
   ],
   "source": [
    "print(\"Running tests...\")\n",
    "subprocess.run(tests_command, shell=True)"
   ],
   "metadata": {
    "collapsed": false,
    "ExecuteTime": {
     "end_time": "2023-10-27T10:50:53.760119Z",
     "start_time": "2023-10-27T10:50:50.443280Z"
    }
   }
  },
  {
   "cell_type": "code",
   "execution_count": 61,
   "outputs": [
    {
     "name": "stdout",
     "output_type": "stream",
     "text": [
      "Generating code coverage report...\n",
      "[INFO] Loading execution data file /Users/florianmende/Documents/Development/thesis/evaluation/project/commons-cli-master/target/jacoco.exec.\n",
      "[INFO] Analyzing 25 classes.\n"
     ]
    },
    {
     "data": {
      "text/plain": "CompletedProcess(args=['java', '-jar', '/Users/florianmende/Documents/Development/thesis/evaluation/dependencies/jacoco-0.8.11/lib/jacococli.jar', 'report', '/Users/florianmende/Documents/Development/thesis/evaluation/project/commons-cli-master/target/jacoco.exec', '--classfiles', '/Users/florianmende/Documents/Development/thesis/evaluation/project/commons-cli-master/target/commons-cli-1.6.0-SNAPSHOT.jar', '--csv', '/Users/florianmende/Documents/Development/thesis/evaluation/coverage_reports/cov_rep.csv'], returncode=0)"
     },
     "execution_count": 61,
     "metadata": {},
     "output_type": "execute_result"
    }
   ],
   "source": [
    "print(\"Generating code coverage report...\")\n",
    "subprocess.run(jacoco_report_command)"
   ],
   "metadata": {
    "collapsed": false,
    "ExecuteTime": {
     "end_time": "2023-10-27T11:10:16.720978Z",
     "start_time": "2023-10-27T11:10:16.418373Z"
    }
   }
  },
  {
   "cell_type": "code",
   "execution_count": 102,
   "outputs": [
    {
     "name": "stdout",
     "output_type": "stream",
     "text": [
      "Modified pom.xml to include specific classes in the Jacoco configuration.\n"
     ]
    }
   ],
   "source": [
    "def add_jacoco_includes(pom_file, package_name):\n",
    "    # Load the pom.xml file\n",
    "    tree = ET.parse(pom_file)\n",
    "    root = tree.getroot()\n",
    "\n",
    "    # Define namespaces\n",
    "    namespaces = {\n",
    "        'ns': 'http://maven.apache.org/POM/4.0.0',\n",
    "        'xsi': 'http://www.w3.org/2001/XMLSchema-instance',\n",
    "    }\n",
    "\n",
    "    # Find or create the build section\n",
    "    build = root.find('.//ns:build', namespaces)\n",
    "    if build is None:\n",
    "        build = ET.Element(f'{{{namespaces[\"ns\"]}}}build')\n",
    "        root.append(build)\n",
    "\n",
    "    # Find or create the plugins section within the build\n",
    "    plugins = build.find('ns:plugins', namespaces)\n",
    "    if plugins is None:\n",
    "        plugins = ET.Element(f'{{{namespaces[\"ns\"]}}}plugins')\n",
    "        build.append(plugins)\n",
    "\n",
    "    # Find or create the jacoco-maven-plugin\n",
    "    jacoco_plugin = plugins.find('.//ns:plugin[ns:artifactId=\"jacoco-maven-plugin\"]', namespaces)\n",
    "    if jacoco_plugin is None:\n",
    "        jacoco_plugin = ET.Element(f'{{{namespaces[\"ns\"]}}}plugin')\n",
    "        plugins.append(jacoco_plugin)\n",
    "\n",
    "        artifact_id = ET.SubElement(jacoco_plugin, f'{{{namespaces[\"ns\"]}}}artifactId')\n",
    "        artifact_id.text = 'jacoco-maven-plugin'\n",
    "        version = ET.SubElement(jacoco_plugin, f'{{{namespaces[\"ns\"]}}}version')\n",
    "        version.text = '0.8.10'  # Set the appropriate version\n",
    "\n",
    "    # Find or create the configuration section within the jacoco-maven-plugin\n",
    "    configuration = jacoco_plugin.find('.//ns:configuration', namespaces)\n",
    "    if configuration is None:\n",
    "        configuration = ET.Element(f'{{{namespaces[\"ns\"]}}}configuration')\n",
    "        jacoco_plugin.append(configuration)\n",
    "\n",
    "    # Find or create the includes section within the configuration\n",
    "    includes = configuration.find('ns:includes', namespaces)\n",
    "    if includes is None:\n",
    "        includes = ET.Element(f'{{{namespaces[\"ns\"]}}}includes')\n",
    "        configuration.append(includes)\n",
    "\n",
    "    # Add or update the specific classes you want to include\n",
    "    # For example, to include all test classes in the specified package\n",
    "    include = ET.Element(f'{{{namespaces[\"ns\"]}}}include')\n",
    "    include.text = f'{package_name}.*'\n",
    "    includes.append(include)\n",
    "\n",
    "    # Save the modified pom.xml file\n",
    "    tree.write('pom_gen.xml', xml_declaration=True, encoding='UTF-8')\n",
    "\n",
    "    print(f\"Modified {pom_file} to include specific classes in the Jacoco configuration.\")\n",
    "\n",
    "add_jacoco_includes('pom.xml', 'org.apache.commons.cli')"
   ],
   "metadata": {
    "collapsed": false,
    "ExecuteTime": {
     "end_time": "2023-10-27T13:54:53.511416Z",
     "start_time": "2023-10-27T13:54:53.506033Z"
    }
   }
  },
  {
   "cell_type": "code",
   "execution_count": null,
   "outputs": [],
   "source": [
    "def remove_jacoco_includes(pom_file):\n",
    "    # Define the namespaces used in the XML\n",
    "    namespaces = {\n",
    "        'ns': 'http://maven.apache.org/POM/4.0.0',\n",
    "        'xsi': 'http://www.w3.org/2001/XMLSchema-instance',\n",
    "    }\n",
    "\n",
    "    # Load the pom.xml file\n",
    "    tree = ET.parse(pom_file)\n",
    "    root = tree.getroot()\n",
    "\n",
    "    # Find the jacoco-maven-plugin configuration\n",
    "    jacoco_plugin = root.find('.//ns:plugin[ns:artifactId=\"jacoco-maven-plugin\"]', namespaces)\n",
    "\n",
    "    if jacoco_plugin is not None:\n",
    "        # Find and remove the <includes> section within the configuration\n",
    "        configuration = jacoco_plugin.find('.//ns:configuration', namespaces)\n",
    "        if configuration is not None:\n",
    "            includes = configuration.find('includes')\n",
    "            if includes is not None:\n",
    "                configuration.remove(includes)\n",
    "\n",
    "    # Save the modified pom.xml file\n",
    "    tree.write(pom_file)\n",
    "\n",
    "    print(f\"Removed the <includes> section in {pom_file} for the Jacoco configuration.\")"
   ],
   "metadata": {
    "collapsed": false
   }
  },
  {
   "cell_type": "code",
   "execution_count": 8,
   "outputs": [
    {
     "name": "stdout",
     "output_type": "stream",
     "text": [
      "Modified pom.xml to include specific classes in the Jacoco configuration.\n"
     ]
    }
   ],
   "source": [
    "def add_jacoco_includes(pom_file: str, package_name: str, class_list: list):\n",
    "    # Read the pom.xml file as a string\n",
    "    with open(pom_file, 'r') as file:\n",
    "        xml_data = file.read()\n",
    "\n",
    "    class_str = \"\"\n",
    "    for class_name in class_list:\n",
    "        class_str += f\"<include>{class_name}.*</include>\\n\"\n",
    "\n",
    "    text_to_insert = '<configuration>\\n' + class_str + '</configuration>\\n'\n",
    "\n",
    "    # Find the position to insert the <configurations> section\n",
    "    insert_position = xml_data.find('<artifactId>jacoco-maven-plugin</artifactId>')\n",
    "\n",
    "    xml_data = xml_data[:insert_position] + text_to_insert + xml_data[insert_position:]\n",
    "\n",
    "    # Write the modified XML data back to the pom.xml file\n",
    "    with open(pom_file, 'w') as file:\n",
    "        file.write(xml_data)\n",
    "\n",
    "    print(f\"Modified {pom_file} to include specific classes in the Jacoco configuration.\")\n",
    "\n",
    "    return text_to_insert\n",
    "\n",
    "inserted_text = add_jacoco_includes('pom.xml', 'test.lauch', ['hans', 'wurst'])"
   ],
   "metadata": {
    "collapsed": false,
    "ExecuteTime": {
     "end_time": "2023-10-27T14:26:59.415748Z",
     "start_time": "2023-10-27T14:26:59.401133Z"
    }
   }
  },
  {
   "cell_type": "code",
   "execution_count": 9,
   "outputs": [
    {
     "name": "stdout",
     "output_type": "stream",
     "text": [
      "Removed the previously inserted text from pom.xml.\n"
     ]
    }
   ],
   "source": [
    "def remove_jacoco_includes(pom_file, inserted_text):\n",
    "    # Read the pom.xml file as a string\n",
    "    with open(pom_file, 'r') as file:\n",
    "        xml_data = file.read()\n",
    "\n",
    "    # Check if the inserted text exists in the XML data\n",
    "    if inserted_text in xml_data:\n",
    "        # Remove the inserted text and any surrounding whitespace\n",
    "        xml_data = xml_data.replace(inserted_text, '')\n",
    "\n",
    "    # Write the modified XML data back to the pom.xml file\n",
    "    with open(pom_file, 'w') as file:\n",
    "        file.write(xml_data)\n",
    "\n",
    "    print(f\"Removed the previously inserted text from {pom_file}.\")\n",
    "\n",
    "remove_jacoco_includes('pom.xml', inserted_text)"
   ],
   "metadata": {
    "collapsed": false,
    "ExecuteTime": {
     "end_time": "2023-10-27T14:28:03.428013Z",
     "start_time": "2023-10-27T14:28:03.407403Z"
    }
   }
  },
  {
   "cell_type": "code",
   "execution_count": null,
   "outputs": [],
   "source": [],
   "metadata": {
    "collapsed": false
   }
  }
 ],
 "metadata": {
  "kernelspec": {
   "display_name": "Python 3",
   "language": "python",
   "name": "python3"
  },
  "language_info": {
   "codemirror_mode": {
    "name": "ipython",
    "version": 2
   },
   "file_extension": ".py",
   "mimetype": "text/x-python",
   "name": "python",
   "nbconvert_exporter": "python",
   "pygments_lexer": "ipython2",
   "version": "2.7.6"
  }
 },
 "nbformat": 4,
 "nbformat_minor": 0
}
